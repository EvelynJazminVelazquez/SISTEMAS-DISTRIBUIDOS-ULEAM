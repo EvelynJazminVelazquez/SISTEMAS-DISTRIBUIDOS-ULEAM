{
  "nbformat": 4,
  "nbformat_minor": 0,
  "metadata": {
    "colab": {
      "provenance": [],
      "authorship_tag": "ABX9TyPkmJQg0XSHcBY890cuV4G4",
      "include_colab_link": true
    },
    "kernelspec": {
      "name": "python3",
      "display_name": "Python 3"
    },
    "language_info": {
      "name": "python"
    }
  },
  "cells": [
    {
      "cell_type": "markdown",
      "metadata": {
        "id": "view-in-github",
        "colab_type": "text"
      },
      "source": [
        "<a href=\"https://colab.research.google.com/github/EvelynJazminVelazquez/SISTEMAS-DISTRIBUIDOS-ULEAM/blob/main/miercoles23/10/2024.ipynb\" target=\"_parent\"><img src=\"https://colab.research.google.com/assets/colab-badge.svg\" alt=\"Open In Colab\"/></a>"
      ]
    },
    {
      "cell_type": "markdown",
      "source": [
        "saber que version es"
      ],
      "metadata": {
        "id": "nh3w0MtDsetu"
      }
    },
    {
      "cell_type": "code",
      "execution_count": null,
      "metadata": {
        "colab": {
          "base_uri": "https://localhost:8080/"
        },
        "id": "zTnm2SvCox4U",
        "outputId": "31f96281-0f1a-4d92-ef78-4f2994f7cc98"
      },
      "outputs": [
        {
          "output_type": "stream",
          "name": "stdout",
          "text": [
            "3.10.12 (main, Sep 11 2024, 15:47:36) [GCC 11.4.0]\n"
          ]
        }
      ],
      "source": [
        "import sys\n",
        "print(sys.version)"
      ]
    },
    {
      "cell_type": "code",
      "source": [
        "numero=5\n",
        "tmp1=\"evelyn\"\n",
        "print(numero)\n",
        "print(f\"Mi nombre es {tmp1}\")\n",
        "print(numero+5)\n",
        "print(numero-3)\n",
        "print(numero*3)\n",
        "print(numero/3)\n",
        "print(numero%3)\n",
        "print(numero**3)\n",
        "numero *=2\n",
        "print(numero)\n",
        "print(type(numero))\n",
        "print(type(tmp1))\n"
      ],
      "metadata": {
        "colab": {
          "base_uri": "https://localhost:8080/"
        },
        "id": "8r-lPW4tsl6Q",
        "outputId": "4391789e-3535-481f-f4bf-be589f37f842"
      },
      "execution_count": null,
      "outputs": [
        {
          "output_type": "stream",
          "name": "stdout",
          "text": [
            "5\n",
            "Mi nombre es evelyn\n",
            "10\n",
            "2\n",
            "15\n",
            "1.6666666666666667\n",
            "2\n",
            "125\n",
            "10\n",
            "<class 'int'>\n",
            "<class 'str'>\n"
          ]
        }
      ]
    },
    {
      "cell_type": "code",
      "source": [
        "t=True\n",
        "f=False\n",
        "print(type(t))\n",
        "print(t and f)\n",
        "print(t or f)\n",
        "print(not t)\n",
        "print(t!=f)\n"
      ],
      "metadata": {
        "colab": {
          "base_uri": "https://localhost:8080/"
        },
        "id": "fl_cS0v7vmqf",
        "outputId": "4f6258da-04b6-49bb-8615-2e5234a6f002"
      },
      "execution_count": null,
      "outputs": [
        {
          "output_type": "stream",
          "name": "stdout",
          "text": [
            "<class 'bool'>\n",
            "False\n",
            "True\n",
            "False\n",
            "True\n"
          ]
        }
      ]
    },
    {
      "cell_type": "code",
      "source": [
        "aux1='hello'\n",
        "aux2='world'\n",
        "print(aux1+aux2)\n",
        "print(aux1*4)\n",
        "print(aux1.capitalize())\n",
        "print(aux1.upper())\n",
        "aux3='EVELYN'\n",
        "print(aux3.lower())"
      ],
      "metadata": {
        "colab": {
          "base_uri": "https://localhost:8080/"
        },
        "id": "H98Ft8rLwewb",
        "outputId": "60e3bdb5-6e44-426e-fda6-037f98c59f9e"
      },
      "execution_count": null,
      "outputs": [
        {
          "output_type": "stream",
          "name": "stdout",
          "text": [
            "helloworld\n",
            "hellohellohellohello\n",
            "Hello\n",
            "HELLO\n",
            "evelyn\n"
          ]
        }
      ]
    },
    {
      "cell_type": "code",
      "source": [
        "\n",
        "aux2 = list()\n",
        "aux2.append(1)\n",
        "aux2.append('jazmin')\n",
        "aux2.append(True)\n",
        "aux2.append(4)\n",
        "print(aux2)\n",
        "print(aux2[1])\n",
        "print(aux2[-1])\n",
        "\n",
        "aux2[1] = 'sol'\n",
        "print(aux2)\n",
        "\n",
        "print('')"
      ],
      "metadata": {
        "colab": {
          "base_uri": "https://localhost:8080/"
        },
        "id": "B2PygCn0z1gS",
        "outputId": "8ee12332-3298-4532-b8aa-9472c12e72be"
      },
      "execution_count": null,
      "outputs": [
        {
          "output_type": "stream",
          "name": "stdout",
          "text": [
            "[1, 'jazmin', True, 4]\n",
            "jazmin\n",
            "4\n",
            "[1, 'sol', True, 4]\n",
            "\n"
          ]
        }
      ]
    },
    {
      "cell_type": "code",
      "source": [
        "tmp1=list(range(100))\n",
        "for x in tmp1:\n",
        "    print(f\"El valor es {x}\")"
      ],
      "metadata": {
        "colab": {
          "base_uri": "https://localhost:8080/"
        },
        "id": "QrQVztBc0oVI",
        "outputId": "71c24a2a-9ef1-4495-a0f1-19a716b3d03e"
      },
      "execution_count": null,
      "outputs": [
        {
          "output_type": "stream",
          "name": "stdout",
          "text": [
            "El valor es 0\n",
            "El valor es 1\n",
            "El valor es 2\n",
            "El valor es 3\n",
            "El valor es 4\n",
            "El valor es 5\n",
            "El valor es 6\n",
            "El valor es 7\n",
            "El valor es 8\n",
            "El valor es 9\n",
            "El valor es 10\n",
            "El valor es 11\n",
            "El valor es 12\n",
            "El valor es 13\n",
            "El valor es 14\n",
            "El valor es 15\n",
            "El valor es 16\n",
            "El valor es 17\n",
            "El valor es 18\n",
            "El valor es 19\n",
            "El valor es 20\n",
            "El valor es 21\n",
            "El valor es 22\n",
            "El valor es 23\n",
            "El valor es 24\n",
            "El valor es 25\n",
            "El valor es 26\n",
            "El valor es 27\n",
            "El valor es 28\n",
            "El valor es 29\n",
            "El valor es 30\n",
            "El valor es 31\n",
            "El valor es 32\n",
            "El valor es 33\n",
            "El valor es 34\n",
            "El valor es 35\n",
            "El valor es 36\n",
            "El valor es 37\n",
            "El valor es 38\n",
            "El valor es 39\n",
            "El valor es 40\n",
            "El valor es 41\n",
            "El valor es 42\n",
            "El valor es 43\n",
            "El valor es 44\n",
            "El valor es 45\n",
            "El valor es 46\n",
            "El valor es 47\n",
            "El valor es 48\n",
            "El valor es 49\n",
            "El valor es 50\n",
            "El valor es 51\n",
            "El valor es 52\n",
            "El valor es 53\n",
            "El valor es 54\n",
            "El valor es 55\n",
            "El valor es 56\n",
            "El valor es 57\n",
            "El valor es 58\n",
            "El valor es 59\n",
            "El valor es 60\n",
            "El valor es 61\n",
            "El valor es 62\n",
            "El valor es 63\n",
            "El valor es 64\n",
            "El valor es 65\n",
            "El valor es 66\n",
            "El valor es 67\n",
            "El valor es 68\n",
            "El valor es 69\n",
            "El valor es 70\n",
            "El valor es 71\n",
            "El valor es 72\n",
            "El valor es 73\n",
            "El valor es 74\n",
            "El valor es 75\n",
            "El valor es 76\n",
            "El valor es 77\n",
            "El valor es 78\n",
            "El valor es 79\n",
            "El valor es 80\n",
            "El valor es 81\n",
            "El valor es 82\n",
            "El valor es 83\n",
            "El valor es 84\n",
            "El valor es 85\n",
            "El valor es 86\n",
            "El valor es 87\n",
            "El valor es 88\n",
            "El valor es 89\n",
            "El valor es 90\n",
            "El valor es 91\n",
            "El valor es 92\n",
            "El valor es 93\n",
            "El valor es 94\n",
            "El valor es 95\n",
            "El valor es 96\n",
            "El valor es 97\n",
            "El valor es 98\n",
            "El valor es 99\n"
          ]
        }
      ]
    }
  ]
}